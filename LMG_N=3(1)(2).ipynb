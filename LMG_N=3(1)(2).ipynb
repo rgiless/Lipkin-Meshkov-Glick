{
  "nbformat": 4,
  "nbformat_minor": 0,
  "metadata": {
    "colab": {
      "provenance": []
    },
    "kernelspec": {
      "name": "python3",
      "display_name": "Python 3"
    },
    "language_info": {
      "name": "python"
    }
  },
  "cells": [
    {
      "cell_type": "markdown",
      "source": [
        "For previous derivation, pleae see handwritten notes. We come to an expression for the Hamiltonian in terms of operators that we can then solve computationally. Approach 1 involved expanding out the many gates in the Hamiltonian using Mathematica, but this approach overcomplicated things."
      ],
      "metadata": {
        "id": "AYq-WXwteQBC"
      }
    },
    {
      "cell_type": "markdown",
      "source": [
        "Approach 2: Solving system using OpenFermion"
      ],
      "metadata": {
        "id": "OvjMEdMLaoJK"
      }
    },
    {
      "cell_type": "code",
      "execution_count": null,
      "metadata": {
        "id": "LtnfrEO2ZpgI"
      },
      "outputs": [],
      "source": [
        "# Install and import OpenFermion and Numpy\n",
        "%%capture\n",
        "try:\n",
        "    import openfermion\n",
        "except ImportError:\n",
        "    !pip install git+https://github.com/quantumlib/OpenFermion.git@master#egg=openfermion\n",
        "!pip install --upgrade numpy"
      ]
    },
    {
      "cell_type": "code",
      "source": [
        "from openfermion.ops import FermionOperator\n",
        "from openfermion.transforms import jordan_wigner\n",
        "from openfermion.linalg import eigenspectrum\n",
        "\n",
        "# Define the one-body terms\n",
        "onebody1 = FermionOperator('3^ 3')\n",
        "onebody2 = FermionOperator('4^ 4')\n",
        "onebody3 = FermionOperator('5^ 5')\n",
        "onebody4 = FermionOperator('0^ 0')\n",
        "onebody5 = FermionOperator('1^ 1')\n",
        "onebody6 = FermionOperator('2^ 3')\n",
        "\n",
        "# Create full one body expression\n",
        "onebody = onebody1 + onebody2 + onebody3 - onebody4 - onebody5 - onebody6\n",
        "\n",
        "# Define two-body terms\n",
        "twobody1 = FermionOperator('3^ 4^ 1 0')\n",
        "twobody2 = FermionOperator('0^ 1^ 4 3')\n",
        "twobody3 = FermionOperator('3^ 5^ 2 0')\n",
        "twobody4 = FermionOperator('0^ 2^ 5 3')\n",
        "twobody5 = FermionOperator('4^ 5^ 2 1')\n",
        "twobody6 = FermionOperator('1^ 2^ 5 4')\n",
        "\n",
        "# Create full two-body expression\n",
        "twobody = twobody1 + twobody2 + twobody3 + twobody4 + twobody5 + twobody6\n",
        "\n",
        "# Construct full Hamiltonian\n",
        "Hfull = 0.5*onebody + 0.8*twobody\n",
        "# Perform built-in JW transformation\n",
        "Hjw = jordan_wigner(Hfull)\n",
        "# Print eigenvalues of JW Hamiltonian\n",
        "Hspectrum = eigenspectrum(Hjw)\n",
        "print(Hspectrum)"
      ],
      "metadata": {
        "colab": {
          "base_uri": "https://localhost:8080/"
        },
        "id": "wMWN1cAHZq8I",
        "outputId": "75585fdb-7512-4882-fffd-e2706d31d0c4"
      },
      "execution_count": null,
      "outputs": [
        {
          "output_type": "stream",
          "name": "stdout",
          "text": [
            "[-1.78875056e+00-3.48495754e-77j -1.28062485e+00+0.00000000e+00j\n",
            " -1.01260204e+00+1.02695539e-83j -8.46585610e-01-7.98657881e-73j\n",
            " -8.46585610e-01+2.33711778e-68j -8.46585610e-01+1.77551658e-33j\n",
            " -8.46585610e-01-3.79676612e-83j -7.80624847e-01+2.63163068e-76j\n",
            " -5.00000000e-01-1.71495819e-76j -5.00000000e-01+0.00000000e+00j\n",
            " -5.00000000e-01+0.00000000e+00j -5.00000000e-01+3.10434554e-75j\n",
            " -2.76148516e-01-2.33994076e-84j -1.16344786e-16+1.20184833e-74j\n",
            " -5.57173082e-17-9.90054266e-72j -5.46821352e-17-9.63669219e-72j\n",
            " -6.71022710e-19-6.28598445e-73j  0.00000000e+00+0.00000000e+00j\n",
            "  0.00000000e+00+0.00000000e+00j  0.00000000e+00+0.00000000e+00j\n",
            "  0.00000000e+00+0.00000000e+00j  0.00000000e+00+0.00000000e+00j\n",
            "  0.00000000e+00+0.00000000e+00j  0.00000000e+00+0.00000000e+00j\n",
            "  0.00000000e+00+0.00000000e+00j  0.00000000e+00+0.00000000e+00j\n",
            "  0.00000000e+00+0.00000000e+00j  0.00000000e+00+0.00000000e+00j\n",
            "  2.83532226e-18+2.33112888e-17j  2.83532226e-18-2.33112888e-17j\n",
            "  6.98228787e-18+0.00000000e+00j  7.69592891e-17-6.78745833e-75j\n",
            "  5.00000000e-01-2.94591179e-77j  5.00000000e-01+0.00000000e+00j\n",
            "  5.00000000e-01+1.68263905e-71j  5.00000000e-01-1.81523354e-33j\n",
            "  5.00000000e-01+0.00000000e+00j  5.00000000e-01+0.00000000e+00j\n",
            "  5.00000000e-01+0.00000000e+00j  5.00000000e-01+0.00000000e+00j\n",
            "  5.00000000e-01+0.00000000e+00j  5.00000000e-01+0.00000000e+00j\n",
            "  5.00000000e-01+0.00000000e+00j  5.00000000e-01+0.00000000e+00j\n",
            "  5.00000000e-01+0.00000000e+00j  5.00000000e-01+0.00000000e+00j\n",
            "  5.00000000e-01+0.00000000e+00j  5.00000000e-01-4.81318986e-77j\n",
            "  5.00000000e-01+0.00000000e+00j  5.00000000e-01+3.42113883e-49j\n",
            "  5.00000000e-01+5.73663596e-75j  7.76148516e-01-1.86645394e-76j\n",
            "  1.00000000e+00+0.00000000e+00j  1.00000000e+00+0.00000000e+00j\n",
            "  1.00000000e+00+0.00000000e+00j  1.00000000e+00-2.69595640e-83j\n",
            "  1.28062485e+00+0.00000000e+00j  1.34658561e+00-3.04177095e-33j\n",
            "  1.34658561e+00+2.78778969e-84j  1.34658561e+00+2.75959684e-79j\n",
            "  1.34658561e+00-5.01684621e-69j  1.51260204e+00-1.69206194e-77j\n",
            "  1.78062485e+00+8.14842762e-76j  2.28875056e+00+1.95209964e-83j]\n"
          ]
        }
      ]
    },
    {
      "cell_type": "code",
      "source": [
        "# Check solutions by eye against numerical solutions from original paper\n",
        "eig1 = - (0.5 - ((1 + 3*(0.8**2)))**0.5)\n",
        "eig2 = + (0.5 + ((1 + 3*(0.8**2)))**0.5)\n",
        "eig3 = - (0.5 + ((1 + 3*(0.8**2)))**0.5)\n",
        "eig4 = + (0.5 - ((1 + 3*(0.8**2)))**0.5)\n",
        "\n",
        "print('Numerical Eigenvalues from Original Paper:')\n",
        "print(eig1)\n",
        "print(eig2)\n",
        "print(eig3)\n",
        "print(eig4)\n"
      ],
      "metadata": {
        "colab": {
          "base_uri": "https://localhost:8080/"
        },
        "id": "JpXzOZSdbO4q",
        "outputId": "b26611d4-cdf9-4e79-d885-fabef34fa59c"
      },
      "execution_count": 1,
      "outputs": [
        {
          "output_type": "stream",
          "name": "stdout",
          "text": [
            "Numerical Eigenvalues from Original Paper:\n",
            "1.2088007490635064\n",
            "2.2088007490635064\n",
            "-2.2088007490635064\n",
            "-1.2088007490635064\n"
          ]
        }
      ]
    },
    {
      "cell_type": "markdown",
      "source": [
        "Solutions don't allign with numerical solutions, and not enough time to dive into full documentation to find out why, need new approach."
      ],
      "metadata": {
        "id": "V4ucQbJLu0eS"
      }
    },
    {
      "cell_type": "markdown",
      "source": [
        "Approach 3: Tensor expansion of operators in Python"
      ],
      "metadata": {
        "id": "mrDDcMTgac7o"
      }
    },
    {
      "cell_type": "code",
      "source": [
        "import numpy as np\n",
        "\n",
        "# Define X, Y, Z and I gates\n",
        "i = 1j\n",
        "X = np.array([[0, 1],[1, 0]])\n",
        "Y = np.array([[0, -i],[i, 0]])\n",
        "Z = np.array([[1, 0],[0, -1]])\n",
        "I = np.array([[1, 0],[0, 1]])\n",
        "\n",
        "# Define all needed versions of X gates, equating to a unique X\n",
        "# gate for each qubit, using tensor product\n",
        "X1 = np.kron(X, np.kron(I, np.kron(I, np.kron(I, np.kron(I, I)))))\n",
        "X2 = np.kron(I, np.kron(X, np.kron(I, np.kron(I, np.kron(I, I)))))\n",
        "X3 = np.kron(I, np.kron(I, np.kron(X, np.kron(I, np.kron(I, I)))))\n",
        "X4 = np.kron(I, np.kron(I, np.kron(I, np.kron(X, np.kron(I, I)))))\n",
        "X5 = np.kron(I, np.kron(I, np.kron(I, np.kron(I, np.kron(X, I)))))\n",
        "X6 = np.kron(I, np.kron(I, np.kron(I, np.kron(I, np.kron(I, X)))))\n",
        "\n",
        "# Define all needed Y gates\n",
        "Y1 = np.kron(Y, np.kron(I, np.kron(I, np.kron(I, np.kron(I, I)))))\n",
        "Y2 = np.kron(I, np.kron(Y, np.kron(I, np.kron(I, np.kron(I, I)))))\n",
        "Y3 = np.kron(I, np.kron(I, np.kron(Y, np.kron(I, np.kron(I, I)))))\n",
        "Y4 = np.kron(I, np.kron(I, np.kron(I, np.kron(Y, np.kron(I, I)))))\n",
        "Y5 = np.kron(I, np.kron(I, np.kron(I, np.kron(I, np.kron(Y, I)))))\n",
        "Y6 = np.kron(I, np.kron(I, np.kron(I, np.kron(I, np.kron(I, Y)))))\n",
        "\n",
        "# Define all Z gates\n",
        "Z1 = np.kron(Z, np.kron(I, np.kron(I, np.kron(I, np.kron(I, I)))))\n",
        "Z2 = np.kron(I, np.kron(Z, np.kron(I, np.kron(I, np.kron(I, I)))))\n",
        "Z3 = np.kron(I, np.kron(I, np.kron(Z, np.kron(I, np.kron(I, I)))))\n",
        "Z4 = np.kron(I, np.kron(I, np.kron(I, np.kron(Z, np.kron(I, I)))))\n",
        "Z5 = np.kron(I, np.kron(I, np.kron(I, np.kron(I, np.kron(Z, I)))))\n",
        "Z6 = np.kron(I, np.kron(I, np.kron(I, np.kron(I, np.kron(I, Z)))))\n",
        "\n",
        "# Generate all creation operators using expression from notes\n",
        "create1 = 0.5 * (X1 - i*Y1)\n",
        "create2 = 0.5 * (X2 - i*Y2)@Z1\n",
        "create3 = 0.5 * (X3 - i*Y3)@Z2@Z1\n",
        "create4 = 0.5 * (X4 - i*Y4)@Z3@Z2@Z1\n",
        "create5 = 0.5 * (X5 - i*Y5)@Z4@Z3@Z2@Z1\n",
        "create6 = 0.5 * (X6 - i*Y6)@Z5@Z4@Z3@Z2@Z1\n",
        "\n",
        "# Generate all annihilation operators\n",
        "destroy1 = 0.5 * (X1 + i*Y1)\n",
        "destroy2 = 0.5 * (X2 + i*Y2)@Z1\n",
        "destroy3 = 0.5 * (X3 + i*Y3)@Z2@Z1\n",
        "destroy4 = 0.5 * (X4 + i*Y4)@Z3@Z2@Z1\n",
        "destroy5 = 0.5 * (X5 + i*Y5)@Z4@Z3@Z2@Z1\n",
        "destroy6 = 0.5 * (X6 + i*Y6)@Z5@Z4@Z3@Z2@Z1\n",
        "\n",
        "# Define one-body term, derived from notes\n",
        "Honebody = Z1 + Z2 + Z3 - Z4 - Z5 - Z6\n",
        "\n",
        "# Define two-body term, derived from notes\n",
        "Htwobody = ((create4@create5@destroy2@destroy1) + (create1@create2@destroy5@destroy4)\n",
        "            + (create4@create6@destroy3@destroy1) + (create1@create3@destroy6@destroy4)\n",
        "            + (create5@create6@destroy3@destroy2) + (create2@create3@destroy6@destroy5))\n",
        "\n",
        "# Construct full Hamiltonian and print eigenvalues\n",
        "Hfull = 0.25 * Honebody + 0.8 * Htwobody\n",
        "np.set_printoptions(linewidth=np.inf)\n",
        "eigs = np.linalg.eigvals(Hfull)\n",
        "\n",
        "eig1 = - (0.5 - ((1 + 3*(0.8**2)))**0.5)\n",
        "eig2 = + (0.5 + ((1 + 3*(0.8**2)))**0.5)\n",
        "eig3 = - (0.5 + ((1 + 3*(0.8**2)))**0.5)\n",
        "eig4 = + (0.5 - ((1 + 3*(0.8**2)))**0.5)\n",
        "\n",
        "\n",
        "# Check list of calculated eigenvalues and print True when a given eigenvalue\n",
        "# is equal, to a certain tolerance, to the numerical eigenvalue from original\n",
        "# paper\n",
        "numericaleigs = [eig1, eig2, eig3, eig4]\n",
        "\n",
        "print('Numerical Eigenvalues from Original Paper:')\n",
        "for eig in numericaleigs:\n",
        "    print(eig)\n",
        "\n",
        "print('\\nCalculated Eigenvalues:')\n",
        "for eig in eigs:\n",
        "    print(eig)\n",
        "\n",
        "print('\\nCheck if found solutions match with numerical solutions:')\n",
        "tolerance = 1e-6\n",
        "matches = [any(np.isclose(eig, calc, atol=tolerance) for calc in eigs) for eig in numericaleigs]\n",
        "print(matches)"
      ],
      "metadata": {
        "id": "ct0W9P_BfIiZ",
        "colab": {
          "base_uri": "https://localhost:8080/"
        },
        "outputId": "85746600-2ec6-475c-8147-9b3b9c9f3407"
      },
      "execution_count": null,
      "outputs": [
        {
          "output_type": "stream",
          "name": "stdout",
          "text": [
            "Numerical Eigenvalues from Original Paper:\n",
            "1.2088007490635064\n",
            "2.2088007490635064\n",
            "-2.2088007490635064\n",
            "-1.2088007490635064\n",
            "\n",
            "Calculated Eigenvalues:\n",
            "(-1.2806248474865698+0j)\n",
            "(1.2806248474865698+0j)\n",
            "(-2.2088007490635078+0j)\n",
            "(0.49999999999999994+0j)\n",
            "(1.208800749063506+0j)\n",
            "(0.5+0j)\n",
            "(1.2806248474865698+0j)\n",
            "(-1.2806248474865698+0j)\n",
            "(-1.2806248474865698+0j)\n",
            "(1.2806248474865698+0j)\n",
            "(-1.2806248474865698+0j)\n",
            "(1.2806248474865698+0j)\n",
            "(2.2088007490635078+0j)\n",
            "(-0.4999999999999997+0j)\n",
            "(-1.208800749063506+0j)\n",
            "(1.2806248474865696+0j)\n",
            "(-1.2806248474865698+0j)\n",
            "(1.2806248474865694+0j)\n",
            "(-1.2806248474865698+0j)\n",
            "(-0.49999999999999994+0j)\n",
            "0j\n",
            "(0.5+0j)\n",
            "(0.5+0j)\n",
            "(0.5+0j)\n",
            "(-0.5+0j)\n",
            "0j\n",
            "0j\n",
            "(0.5+0j)\n",
            "0j\n",
            "(0.5+0j)\n",
            "(-0.5+0j)\n",
            "0j\n",
            "0j\n",
            "(0.5+0j)\n",
            "0j\n",
            "(0.5+0j)\n",
            "(-0.5+0j)\n",
            "(-0.5+0j)\n",
            "0j\n",
            "0j\n",
            "0j\n",
            "(0.5+0j)\n",
            "(-0.5+0j)\n",
            "0j\n",
            "0j\n",
            "0j\n",
            "(0.5+0j)\n",
            "(0.5+0j)\n",
            "(-0.5+0j)\n",
            "0j\n",
            "(-0.5+0j)\n",
            "0j\n",
            "0j\n",
            "(0.5+0j)\n",
            "(-0.5+0j)\n",
            "0j\n",
            "(-0.5+0j)\n",
            "0j\n",
            "0j\n",
            "(0.5+0j)\n",
            "(-0.5+0j)\n",
            "(-0.5+0j)\n",
            "(-0.5+0j)\n",
            "0j\n",
            "\n",
            "Check if found solutions match with numerical solutions:\n",
            "[True, True, True, True]\n"
          ]
        }
      ]
    },
    {
      "cell_type": "markdown",
      "source": [
        "Calculated solutions allign with numerical solutions, so JW transformed Hamiltonian is accurate. We can also see the eigenvalues from the N = 2 model, [-1.28062485+0.j,  1.28062485+0.j].\n",
        "\n"
      ],
      "metadata": {
        "id": "vNxcKKdsu7lY"
      }
    },
    {
      "cell_type": "code",
      "source": [],
      "metadata": {
        "id": "yQv9LCpSvFh0"
      },
      "execution_count": null,
      "outputs": []
    }
  ]
}